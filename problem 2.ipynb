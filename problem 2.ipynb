{
 "cells": [
  {
   "cell_type": "code",
   "execution_count": 9,
   "id": "488490c1",
   "metadata": {},
   "outputs": [
    {
     "name": "stdout",
     "output_type": "stream",
     "text": [
      " Please Enter any a Value : 10\n",
      "The Cube of a Given Number 10 is = 1000\n"
     ]
    }
   ],
   "source": [
    "number = int(input(\" Please Enter any a Value : \"))\n",
    "\n",
    "cube = number ** 3\n",
    "\n",
    "print(\"The Cube of a Given Number {0} is = {1}\".format(number, cube))"
   ]
  }
 ],
 "metadata": {
  "kernelspec": {
   "display_name": "Python 3 (ipykernel)",
   "language": "python",
   "name": "python3"
  },
  "language_info": {
   "codemirror_mode": {
    "name": "ipython",
    "version": 3
   },
   "file_extension": ".py",
   "mimetype": "text/x-python",
   "name": "python",
   "nbconvert_exporter": "python",
   "pygments_lexer": "ipython3",
   "version": "3.10.9"
  }
 },
 "nbformat": 4,
 "nbformat_minor": 5
}
