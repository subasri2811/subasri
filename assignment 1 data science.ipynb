{
 "cells": [
  {
   "cell_type": "code",
   "execution_count": null,
   "id": "9f7b4b3c",
   "metadata": {},
   "outputs": [],
   "source": []
  },
  {
   "cell_type": "code",
   "execution_count": null,
   "id": "c49594eb",
   "metadata": {},
   "outputs": [],
   "source": []
  },
  {
   "cell_type": "code",
   "execution_count": 7,
   "id": "80e9fd04",
   "metadata": {},
   "outputs": [
    {
     "name": "stdout",
     "output_type": "stream",
     "text": [
      "Enter a value for a:3\n",
      "Enter a value for b:4\n",
      "Enter a value for c:5\n",
      "It is pythogorean theorem\n"
     ]
    }
   ],
   "source": [
    "a=int(input(\"Enter a value for a:\"))\n",
    "b=int(input(\"Enter a value for b:\"))\n",
    "c=int(input(\"Enter a value for c:\"))\n",
    "if (a**2 + b**2) == c**2:\n",
    "    print(\"It is pythogorean theorem\")\n",
    "else:\n",
    "    print(\"It is not pythogorean theorem\")\n"
   ]
  },
  {
   "cell_type": "code",
   "execution_count": 6,
   "id": "45646d53",
   "metadata": {},
   "outputs": [
    {
     "name": "stdout",
     "output_type": "stream",
     "text": [
      "Enter a value for a:3\n",
      "Enter a value for b:4\n",
      "Enter a value for c:6\n",
      "It is not pythogorean theorem\n"
     ]
    }
   ],
   "source": [
    "a=int(input(\"Enter a value for a:\"))\n",
    "b=int(input(\"Enter a value for b:\"))\n",
    "c=int(input(\"Enter a value for c:\"))\n",
    "if (a**2 + b**2) == c**2:\n",
    "    print(\"It is pythogorean theorem\")\n",
    "else:\n",
    "    print(\"It is not pythogorean theorem\")"
   ]
  }
 ],
 "metadata": {
  "kernelspec": {
   "display_name": "Python 3 (ipykernel)",
   "language": "python",
   "name": "python3"
  },
  "language_info": {
   "codemirror_mode": {
    "name": "ipython",
    "version": 3
   },
   "file_extension": ".py",
   "mimetype": "text/x-python",
   "name": "python",
   "nbconvert_exporter": "python",
   "pygments_lexer": "ipython3",
   "version": "3.10.9"
  }
 },
 "nbformat": 4,
 "nbformat_minor": 5
}
